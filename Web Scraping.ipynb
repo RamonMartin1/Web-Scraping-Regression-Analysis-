{
 "cells": [
  {
   "cell_type": "markdown",
   "metadata": {},
   "source": [
    "# <font color='#7ad7f0'><font size='30'> WEB SCRAPING PART</font></font>\n",
    "#### Scraping the-numbers.com for movie data\n"
   ]
  },
  {
   "cell_type": "code",
   "execution_count": 2,
   "metadata": {},
   "outputs": [],
   "source": [
    "#Importing necessary libraries\n",
    "\n",
    "from bs4 import BeautifulSoup \n",
    "import urllib\n",
    "import requests\n",
    "from IPython.core.display import display, HTML\n",
    "import numpy as np\n",
    "import pandas as pd\n",
    "import re"
   ]
  },
  {
   "cell_type": "markdown",
   "metadata": {},
   "source": [
    "## Defining additional functions\n"
   ]
  },
  {
   "cell_type": "code",
   "execution_count": 94,
   "metadata": {},
   "outputs": [],
   "source": [
    "#functions for populating feature lists\n",
    "\n",
    "def movdet(cast): #gets actor and director names\n",
    "    urlmain = 'https://www.the-numbers.com'\n",
    "    urlmov=urlmain+cast\n",
    "    #Request HTML and parse\n",
    "    response = requests.get(urlmov)\n",
    "    page = response.text\n",
    "    soup = BeautifulSoup(page,\"lxml\")\n",
    "\n",
    "    actor= list()\n",
    "    try:\n",
    "        for i in soup.find_all(itemprop = \"actor\"):\n",
    "            for a in i.find_all('a', href=True):\n",
    "                actor.append(a['href'])\n",
    "        actor2= list()\n",
    "        for i in range(len(actor)):\n",
    "            a, b= str(actor[i]).split(\"-\", 1)\n",
    "            actor2.append(b)\n",
    "        star.append(actor2[0])\n",
    "        director1= list()\n",
    "        for i in soup.find_all(itemprop = \"director\"):\n",
    "            for a in i.find_all('a', href=True):\n",
    "                director1.append(a['href'])\n",
    "        director2= list()\n",
    "        for i in range(len(director1)):\n",
    "            a, b= str(director1[i]).split(\"-\", 1)\n",
    "            director2.append(b)\n",
    "        director.append(director2[0])\n",
    "    except:\n",
    "        star.append(\"None\")\n",
    "        director.append(\"None\")\n",
    "    \n",
    "\n",
    "def movsum(sumlist): # gets mpaa rating and genre\n",
    "    tempurl=\"https://www.the-numbers.com\"+str(sumlist)\n",
    "    tempres=requests.get(tempurl)\n",
    "    temppage = tempres.text\n",
    "    tempsoup = BeautifulSoup(temppage,\"lxml\")\n",
    "\n",
    "    mpaa=tempsoup.find(\"a\", href=re.compile(\"market/mpaa-rating\"))\n",
    "    mpaa= str(mpaa).strip('<a href=\"/market/mpaa-rating/').split(\"-(US)\", 1)\n",
    "    rating.append(mpaa[0])\n",
    "\n",
    "    gen=tempsoup.find(\"a\", href=re.compile(\"/market/genre/\"))\n",
    "    gen= str(gen).strip('<a href=\"/market/genre/').split('\">', 1)\n",
    "    genre.append(gen[0])\n"
   ]
  },
  {
   "cell_type": "markdown",
   "metadata": {},
   "source": [
    "## Scraping names of films\n",
    "this list will be used to later used to scrape page of each film individually "
   ]
  },
  {
   "cell_type": "code",
   "execution_count": 92,
   "metadata": {},
   "outputs": [],
   "source": [
    "#getting inital data from html\n",
    "\n",
    "url1 = 'https://www.the-numbers.com/movie/budgets/all'\n",
    "\n",
    "\n",
    "response = requests.get(url1)\n",
    "response.status_code \n",
    "myhtml= response.text\n",
    "\n",
    "soup = BeautifulSoup(myhtml, 'lxml')\n",
    "\n",
    "\n"
   ]
  },
  {
   "cell_type": "code",
   "execution_count": 93,
   "metadata": {},
   "outputs": [],
   "source": [
    "#lists for  features i actually was able to scrape\n",
    "rank=[]\n",
    "budget=[]\n",
    "dom_gross=[]\n",
    "ww_gross=[]\n",
    "star=list()\n",
    "costar=list()\n",
    "director=list()\n",
    "producer=list()\n",
    "rating=list()\n",
    "genre=list()\n",
    "\n"
   ]
  },
  {
   "cell_type": "markdown",
   "metadata": {},
   "source": [
    "## Data cleaning"
   ]
  },
  {
   "cell_type": "code",
   "execution_count": 95,
   "metadata": {},
   "outputs": [],
   "source": [
    "#cleaning data to retain only numeric values\n",
    "budgets=[]\n",
    "for elem in soup.find_all(class_='data'):\n",
    "    budgets.append(elem.text)\n",
    "\n",
    "for i in range(len(budgets)):\n",
    "    budgets[i]=(re.sub(\"[^0-9]\", \"\",  budgets[i]))\n",
    "budgets= list(budgets)\n",
    "\n",
    " # rank number \n",
    "for i in range(0, len(budgets), 4):\n",
    "    rank.append(budgets[i])\n",
    "\n",
    "# budget\n",
    "for i in range(1, len(budgets), 4):\n",
    "    budget.append(budgets[i])\n",
    "\n",
    "# domestic gross\n",
    "for i in range(2, len(budgets), 4):\n",
    "    dom_gross.append(budgets[i])\n",
    "\n",
    " # worldwide gross\n",
    "for i in range(3, len(budgets), 4):\n",
    "    ww_gross.append(budgets[i])\n",
    "\n"
   ]
  },
  {
   "cell_type": "code",
   "execution_count": 85,
   "metadata": {},
   "outputs": [],
   "source": [
    "#lists for storing links to each film \n",
    "link_lst= list() #temp list of all links in table\n",
    "sumlist=list() #list of links to movie summary tab\n",
    "cast = list()  #list of links to movie cast&crew tab\n",
    "\n",
    "table = soup.find('table')\n",
    " \n",
    "for a in table.find_all('a', href=True):\n",
    "    link_lst.append(a['href'])\n",
    "\n",
    "dates= list()\n",
    "for i in range(0, len(link_lst), 2):\n",
    "    link_lst[i]= link_lst[i].replace('/box-office-chart/daily/', '')\n",
    "    dates.append(link_lst[i])\n",
    "    \n",
    "\n",
    "for i in range(1, len(link_lst), 2):\n",
    "    sumlist.append(link_lst[i])\n",
    "    link_lst[i]= link_lst[i].replace('=summary', '=cast-and-crew')\n",
    "    cast.append(link_lst[i])\n",
    "\n",
    "\n",
    "\n",
    "\n"
   ]
  },
  {
   "cell_type": "code",
   "execution_count": 96,
   "metadata": {},
   "outputs": [],
   "source": [
    "#scraping each mov page \n",
    "for i in range(len(cast)):\n",
    "    movdet(cast[i])\n",
    "for j in range(len(sumlist)):\n",
    "    movsum(sumlist[i])"
   ]
  },
  {
   "cell_type": "code",
   "execution_count": 97,
   "metadata": {},
   "outputs": [
    {
     "name": "stdout",
     "output_type": "stream",
     "text": [
      "cast=100\n",
      "sumlist=100\n",
      "dir=100\n",
      "star=100\n",
      "gen=100\n",
      "rat=100\n"
     ]
    }
   ],
   "source": [
    "# verifying all my lists have same number of elements\n",
    "print('cast={}'.format(len(cast)))\n",
    "print('sumlist={}'.format(len(sumlist)))\n",
    "print('dir={}'.format(len(director)))\n",
    "print('star={}'.format(len(star)))\n",
    "print('gen={}'.format(len(genre)))\n",
    "print('rat={}'.format(len(rating)))"
   ]
  },
  {
   "cell_type": "markdown",
   "metadata": {},
   "source": [
    "# Creating dataframe from feature lists"
   ]
  },
  {
   "cell_type": "code",
   "execution_count": 98,
   "metadata": {},
   "outputs": [
    {
     "name": "stdout",
     "output_type": "stream",
     "text": [
      "<bound method NDFrame.head of    Number     Budget Domestic Gross Worldwide Gross               Director  \\\n",
      "0       1  400000000      858373000      2797800564         Andy-Wachowski   \n",
      "1       2  379000000      241063875      1045663875  Christopher-McQuarrie   \n",
      "2       3  365000000      459005868      1396099202           Bryan-Singer   \n",
      "3       4  306000000      936662225      2065478084         Jon-Turteltaub   \n",
      "4       5  300000000      678815482      2048359754             Doug-Liman   \n",
      "..    ...        ...            ...             ...                    ...   \n",
      "95     96  180000000      223808164       532508025      Wolfgang-Petersen   \n",
      "96     97  180000000      140125968       256585882      M-Night-Shyamalan   \n",
      "97     98  180000000      126643061       348902025          Steve-Hickner   \n",
      "98     99  180000000       73864507       180047784         Hoyt-H-Yeatman   \n",
      "99    100  180000000       40479370       215098356         Chris-Williams   \n",
      "\n",
      "        Main Actor Release Date      Genre MPAA  \n",
      "0   Channing-Tatum   2015/02/06  Adventure   PG  \n",
      "1       Tom-Cruise   2018/07/16  Adventure   PG  \n",
      "2     James-McAvoy   2016/05/18  Adventure   PG  \n",
      "3    Jason-Statham   2018/08/09  Adventure   PG  \n",
      "4       Tom-Cruise   2014/05/28  Adventure   PG  \n",
      "..             ...          ...        ...  ...  \n",
      "95       Brad-Pitt   2004/05/13  Adventure   PG  \n",
      "96     Noah-Ringer   2010/07/01  Adventure   PG  \n",
      "97  Jerry-Seinfeld   2007/11/02  Adventure   PG  \n",
      "98    Nicolas-Cage   2009/07/24  Adventure   PG  \n",
      "99   John-Travolta   2008/11/21  Adventure   PG  \n",
      "\n",
      "[100 rows x 9 columns]>\n"
     ]
    }
   ],
   "source": [
    "#creates pandas df from all lists\n",
    "df=pd.DataFrame(list(zip(rank, budget, dom_gross, ww_gross, director, star, dates, genre, rating)), \n",
    "               columns =['Number', 'Budget', 'Domestic Gross', 'Worldwide Gross', 'Director', 'Main Actor', 'Release Date', 'Genre', 'MPAA'])\n",
    "print(df.head)"
   ]
  },
  {
   "cell_type": "code",
   "execution_count": 99,
   "metadata": {},
   "outputs": [],
   "source": [
    "#makes csv file from df\n",
    "\n",
    "df.to_csv(r'/Users/ramonmartin/Documents/METIS/Project 2/movdf.csv', index= False)"
   ]
  },
  {
   "cell_type": "markdown",
   "metadata": {},
   "source": []
  },
  {
   "cell_type": "code",
   "execution_count": null,
   "metadata": {},
   "outputs": [],
   "source": []
  }
 ],
 "metadata": {
  "kernelspec": {
   "display_name": "Python 3",
   "language": "python",
   "name": "python3"
  },
  "language_info": {
   "codemirror_mode": {
    "name": "ipython",
    "version": 3
   },
   "file_extension": ".py",
   "mimetype": "text/x-python",
   "name": "python",
   "nbconvert_exporter": "python",
   "pygments_lexer": "ipython3",
   "version": "3.7.6"
  }
 },
 "nbformat": 4,
 "nbformat_minor": 4
}
